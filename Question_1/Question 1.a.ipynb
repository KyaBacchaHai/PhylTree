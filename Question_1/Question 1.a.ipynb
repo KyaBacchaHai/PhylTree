{
 "cells": [
  {
   "cell_type": "code",
   "execution_count": 1,
   "metadata": {},
   "outputs": [],
   "source": [
    "def read_and_give_dict(path):\n",
    "    \"\"\"\n",
    "        The function returns a Dictionary {\"Version\", \"Defination\", \"Sequence\"}\n",
    "        for a file given in the path\n",
    "        \"\"\"\n",
    "    with open(path) as file:\n",
    "        info = file.read()\n",
    "    info = info.split(\">\")\n",
    "    while True:\n",
    "        try:\n",
    "            info.remove(\"\")\n",
    "        except:\n",
    "            break        \n",
    "    nucleotide_list, nucleotides = [], {\"Version\": [], \"Defination\": [], \"Sequence\": []}\n",
    "    for i in info:\n",
    "        temp, seq = i.split(\"\\n\", maxsplit=1)\n",
    "        nucleotides['Version'].append(temp.split(\" \", maxsplit=1)[0])\n",
    "        nucleotides['Defination'].append(temp.split(\" \", maxsplit=1)[1])\n",
    "        nucleotides[\"Sequence\"].append(\"\".join(seq.split(\"\\n\")))\n",
    "    return nucleotides"
   ]
  },
  {
   "cell_type": "code",
   "execution_count": 2,
   "metadata": {},
   "outputs": [],
   "source": [
    "sequences = read_and_give_dict(\"./../Nucleotide_alignment.txt\")"
   ]
  },
  {
   "cell_type": "code",
   "execution_count": 3,
   "metadata": {},
   "outputs": [
    {
     "data": {
      "text/plain": [
       "561"
      ]
     },
     "execution_count": 3,
     "metadata": {},
     "output_type": "execute_result"
    }
   ],
   "source": [
    "len(sequences['Sequence'][0])"
   ]
  },
  {
   "cell_type": "code",
   "execution_count": 4,
   "metadata": {},
   "outputs": [],
   "source": [
    "def Distance(str1, str2):\n",
    "    m = len(str1)\n",
    "    mismatch, common_dash = 0, 0\n",
    "    for i in range(m):\n",
    "        if str1[i]==str2[i]:\n",
    "            if str1[i]==\"-\":\n",
    "                common_dash += 1\n",
    "        else:\n",
    "            mismatch += 1\n",
    "#     print(\"mismatch: \", mismatch, \" m: \", m, \"  common_dash: \", common_dash)\n",
    "    return (mismatch/(m-common_dash))"
   ]
  },
  {
   "cell_type": "code",
   "execution_count": 5,
   "metadata": {},
   "outputs": [],
   "source": [
    "distance_matrix = []\n",
    "for i in range(len(sequences['Sequence'])):\n",
    "    distances = []\n",
    "    for j in range(len(sequences['Sequence'])):\n",
    "        distances.append(Distance(sequences['Sequence'][i], sequences['Sequence'][j]))\n",
    "    distance_matrix.append(distances)"
   ]
  },
  {
   "cell_type": "code",
   "execution_count": 8,
   "metadata": {},
   "outputs": [
    {
     "data": {
      "text/plain": [
       "array([[0.        , 0.57397504, 0.6835443 , 0.64991023, 0.63963964,\n",
       "        0.64770642, 0.65529623, 0.62181818, 0.69724771, 0.67863555],\n",
       "       [0.57397504, 0.        , 0.58348968, 0.55430712, 0.5411985 ,\n",
       "        0.55430712, 0.5463138 , 0.5202952 , 0.60299625, 0.56928839],\n",
       "       [0.6835443 , 0.58348968, 0.        , 0.45940171, 0.44989339,\n",
       "        0.40829694, 0.43449782, 0.45780591, 0.46258503, 0.4291939 ],\n",
       "       [0.64991023, 0.55430712, 0.45940171, 0.        , 0.38428875,\n",
       "        0.41078838, 0.27839644, 0.39759036, 0.40979955, 0.31625835],\n",
       "       [0.63963964, 0.5411985 , 0.44989339, 0.38428875, 0.        ,\n",
       "        0.38607595, 0.36344086, 0.40973631, 0.41900648, 0.34623656],\n",
       "       [0.64770642, 0.55430712, 0.40829694, 0.41078838, 0.38607595,\n",
       "        0.        , 0.38235294, 0.32618026, 0.36489607, 0.39495798],\n",
       "       [0.65529623, 0.5463138 , 0.43449782, 0.27839644, 0.36344086,\n",
       "        0.38235294, 0.        , 0.35569106, 0.36734694, 0.29251701],\n",
       "       [0.62181818, 0.5202952 , 0.45780591, 0.39759036, 0.40973631,\n",
       "        0.32618026, 0.35569106, 0.        , 0.37796976, 0.3902439 ],\n",
       "       [0.69724771, 0.60299625, 0.46258503, 0.40979955, 0.41900648,\n",
       "        0.36489607, 0.36734694, 0.37796976, 0.        , 0.21394231],\n",
       "       [0.67863555, 0.56928839, 0.4291939 , 0.31625835, 0.34623656,\n",
       "        0.39495798, 0.29251701, 0.3902439 , 0.21394231, 0.        ]])"
      ]
     },
     "execution_count": 8,
     "metadata": {},
     "output_type": "execute_result"
    }
   ],
   "source": [
    "import pandas as pd\n",
    "df = pd.DataFrame(distance_matrix)\n",
    "df.to_numpy()"
   ]
  },
  {
   "cell_type": "code",
   "execution_count": 7,
   "metadata": {},
   "outputs": [],
   "source": [
    "df.to_csv(\"./Ndistance.txt\")"
   ]
  }
 ],
 "metadata": {
  "kernelspec": {
   "display_name": "Python 3",
   "language": "python",
   "name": "python3"
  },
  "language_info": {
   "codemirror_mode": {
    "name": "ipython",
    "version": 3
   },
   "file_extension": ".py",
   "mimetype": "text/x-python",
   "name": "python",
   "nbconvert_exporter": "python",
   "pygments_lexer": "ipython3",
   "version": "3.6.9"
  }
 },
 "nbformat": 4,
 "nbformat_minor": 4
}
